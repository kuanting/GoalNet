{
 "cells": [
  {
   "cell_type": "code",
   "execution_count": 1,
   "id": "necessary-coffee",
   "metadata": {},
   "outputs": [],
   "source": [
    "import pandas as pd\n",
    "import yaml\n",
    "import argparse\n",
    "import torch\n",
    "from model.model_viz import GoalNet"
   ]
  },
  {
   "cell_type": "code",
   "execution_count": 2,
   "id": "nominated-serve",
   "metadata": {},
   "outputs": [],
   "source": [
    "%load_ext autoreload\n",
    "%autoreload 2"
   ]
  },
  {
   "cell_type": "markdown",
   "id": "85d6bf06",
   "metadata": {},
   "source": [
    "#### Some hyperparameters and settings"
   ]
  },
  {
   "cell_type": "code",
   "execution_count": 3,
   "id": "external-stock",
   "metadata": {},
   "outputs": [],
   "source": [
    "CONFIG_FILE_PATH = 'config/pie.yaml'  # yaml config file containing all the hyperparameters\n",
    "DATASET_NAME = 'pie'\n",
    "\n",
    "TEST_DATA_PATH = 'data/PIE/test_pie.pkl'\n",
    "TEST_IMAGE_PATH = 'data/PIE/test'  # only needed for YNet, PECNet ignores this value\n",
    "OBS_LEN = 15  # in timesteps\n",
    "PRED_LEN = 45  # in timesteps\n",
    "NUM_GOALS = 20  # K_e\n",
    "NUM_TRAJ = 1  # K_a\n",
    "\n",
    "ROUNDS = 1  # How often to evaluate the whole dataset, get stochastic mean results\n",
    "BATCH_SIZE = 1"
   ]
  },
  {
   "cell_type": "markdown",
   "id": "1d9dfa62",
   "metadata": {},
   "source": [
    "#### Load config file and print hyperparameters"
   ]
  },
  {
   "cell_type": "code",
   "execution_count": 4,
   "id": "juvenile-factory",
   "metadata": {},
   "outputs": [
    {
     "data": {
      "text/plain": [
       "{'resize': 0.25,\n",
       " 'batch_size': 8,\n",
       " 'train_mode': 'scene',\n",
       " 'matrics': 'mse',\n",
       " 'learning_rate': 0.0001,\n",
       " 'num_epochs': 50,\n",
       " 'grad_accum': True,\n",
       " 'batch_size_gpu': 1,\n",
       " 'data_augmentation': ['rot', 'flip'],\n",
       " 'encoder_channels': [32, 32, 64, 64, 64],\n",
       " 'decoder_channels': [64, 64, 64, 32, 32],\n",
       " 'waypoints': [44],\n",
       " 'feature_extract': True,\n",
       " 'segmentation_model': None,\n",
       " 'bbox_wh_model': 'pretrained_models/bbox_wh/pie_wh-72.pth',\n",
       " 'feature_classes': 6,\n",
       " 'temperature': 1.0,\n",
       " 'loss_scale': 1000,\n",
       " 'kernlen': 31,\n",
       " 'nsig': 4,\n",
       " 'clip_grad': False,\n",
       " 'max_norm': 20,\n",
       " 'use_TTST': True,\n",
       " 'rel_threshold': 0.0001,\n",
       " 'use_CWS': False,\n",
       " 'CWS_params': {'sigma_factor': 6, 'ratio': 2, 'rot': True}}"
      ]
     },
     "execution_count": 4,
     "metadata": {},
     "output_type": "execute_result"
    }
   ],
   "source": [
    "with open(CONFIG_FILE_PATH) as file:\n",
    "    params = yaml.load(file, Loader=yaml.FullLoader)\n",
    "experiment_name = CONFIG_FILE_PATH.split('.yaml')[0].split('config/')[1]\n",
    "params"
   ]
  },
  {
   "cell_type": "markdown",
   "id": "stylish-reserve",
   "metadata": {},
   "source": [
    "#### Load preprocessed Data"
   ]
  },
  {
   "cell_type": "code",
   "execution_count": 5,
   "id": "isolated-advertiser",
   "metadata": {},
   "outputs": [],
   "source": [
    "df_test = pd.read_pickle(TEST_DATA_PATH)"
   ]
  },
  {
   "cell_type": "code",
   "execution_count": 6,
   "id": "finished-lotus",
   "metadata": {},
   "outputs": [
    {
     "data": {
      "text/html": [
       "<div>\n",
       "<style scoped>\n",
       "    .dataframe tbody tr th:only-of-type {\n",
       "        vertical-align: middle;\n",
       "    }\n",
       "\n",
       "    .dataframe tbody tr th {\n",
       "        vertical-align: top;\n",
       "    }\n",
       "\n",
       "    .dataframe thead th {\n",
       "        text-align: right;\n",
       "    }\n",
       "</style>\n",
       "<table border=\"1\" class=\"dataframe\">\n",
       "  <thead>\n",
       "    <tr style=\"text-align: right;\">\n",
       "      <th></th>\n",
       "      <th>frame</th>\n",
       "      <th>trackId</th>\n",
       "      <th>x</th>\n",
       "      <th>y</th>\n",
       "      <th>w</th>\n",
       "      <th>h</th>\n",
       "      <th>sceneId</th>\n",
       "      <th>metaId</th>\n",
       "    </tr>\n",
       "  </thead>\n",
       "  <tbody>\n",
       "    <tr>\n",
       "      <th>0</th>\n",
       "      <td>01478</td>\n",
       "      <td>0</td>\n",
       "      <td>1124.760</td>\n",
       "      <td>742.35</td>\n",
       "      <td>7.92</td>\n",
       "      <td>27.5</td>\n",
       "      <td>set03-video_0001-01478</td>\n",
       "      <td>0</td>\n",
       "    </tr>\n",
       "    <tr>\n",
       "      <th>1</th>\n",
       "      <td>01478</td>\n",
       "      <td>0</td>\n",
       "      <td>1124.760</td>\n",
       "      <td>742.35</td>\n",
       "      <td>7.92</td>\n",
       "      <td>27.5</td>\n",
       "      <td>set03-video_0001-01478</td>\n",
       "      <td>0</td>\n",
       "    </tr>\n",
       "    <tr>\n",
       "      <th>2</th>\n",
       "      <td>01478</td>\n",
       "      <td>0</td>\n",
       "      <td>1125.235</td>\n",
       "      <td>743.20</td>\n",
       "      <td>8.01</td>\n",
       "      <td>27.7</td>\n",
       "      <td>set03-video_0001-01478</td>\n",
       "      <td>0</td>\n",
       "    </tr>\n",
       "    <tr>\n",
       "      <th>3</th>\n",
       "      <td>01478</td>\n",
       "      <td>0</td>\n",
       "      <td>1125.710</td>\n",
       "      <td>744.04</td>\n",
       "      <td>8.08</td>\n",
       "      <td>27.9</td>\n",
       "      <td>set03-video_0001-01478</td>\n",
       "      <td>0</td>\n",
       "    </tr>\n",
       "    <tr>\n",
       "      <th>4</th>\n",
       "      <td>01478</td>\n",
       "      <td>0</td>\n",
       "      <td>1126.185</td>\n",
       "      <td>744.89</td>\n",
       "      <td>8.17</td>\n",
       "      <td>28.1</td>\n",
       "      <td>set03-video_0001-01478</td>\n",
       "      <td>0</td>\n",
       "    </tr>\n",
       "  </tbody>\n",
       "</table>\n",
       "</div>"
      ],
      "text/plain": [
       "   frame  trackId         x       y     w     h                 sceneId  \\\n",
       "0  01478        0  1124.760  742.35  7.92  27.5  set03-video_0001-01478   \n",
       "1  01478        0  1124.760  742.35  7.92  27.5  set03-video_0001-01478   \n",
       "2  01478        0  1125.235  743.20  8.01  27.7  set03-video_0001-01478   \n",
       "3  01478        0  1125.710  744.04  8.08  27.9  set03-video_0001-01478   \n",
       "4  01478        0  1126.185  744.89  8.17  28.1  set03-video_0001-01478   \n",
       "\n",
       "   metaId  \n",
       "0       0  \n",
       "1       0  \n",
       "2       0  \n",
       "3       0  \n",
       "4       0  "
      ]
     },
     "execution_count": 6,
     "metadata": {},
     "output_type": "execute_result"
    }
   ],
   "source": [
    "df_test.head()"
   ]
  },
  {
   "cell_type": "markdown",
   "id": "6b9046d1",
   "metadata": {},
   "source": [
    "#### Initiate model and load pretrained weights"
   ]
  },
  {
   "cell_type": "code",
   "execution_count": 7,
   "id": "graphic-wales",
   "metadata": {},
   "outputs": [],
   "source": [
    "model = GoalNet(obs_len=OBS_LEN, pred_len=PRED_LEN, params=params)"
   ]
  },
  {
   "cell_type": "code",
   "execution_count": 8,
   "id": "impaired-genre",
   "metadata": {},
   "outputs": [
    {
     "name": "stdout",
     "output_type": "stream",
     "text": [
      "<All keys matched successfully>\n"
     ]
    }
   ],
   "source": [
    "model.load('pretrained_models/pie_adam_final_7_weights.pt')"
   ]
  },
  {
   "cell_type": "markdown",
   "id": "3de13533",
   "metadata": {},
   "source": [
    "#### Evaluate model"
   ]
  },
  {
   "cell_type": "code",
   "execution_count": 9,
   "id": "labeled-permission",
   "metadata": {},
   "outputs": [
    {
     "name": "stdout",
     "output_type": "stream",
     "text": [
      "Preprocess data\n"
     ]
    },
    {
     "name": "stderr",
     "output_type": "stream",
     "text": [
      "Prepare Dataset: 100%|█████████████████████████████████████████████████████████████████| 1/1 [00:00<00:00, 1003.42it/s]\n"
     ]
    },
    {
     "name": "stdout",
     "output_type": "stream",
     "text": [
      "Start testing\n"
     ]
    },
    {
     "name": "stderr",
     "output_type": "stream",
     "text": [
      "Round: 100%|█████████████████████████████████████████████████████████████████████████████| 1/1 [00:02<00:00,  2.31s/it]"
     ]
    },
    {
     "name": "stdout",
     "output_type": "stream",
     "text": [
      "skip\n",
      "Round 0: \n",
      "Test CMSE: 9.190201759338379 \n",
      "Test CFMSE: 34.420894622802734\n",
      "Test MSE(0.5): 4.329476356506348 \n",
      "Test MSE(1.0): 7.7779107093811035 \n",
      "Test MSE(1.5): 13.949362754821777\n",
      "\n",
      "\n",
      "Average performance over 1 rounds: \n",
      "Test CMSE: 9.190201759338379 \n",
      "Test CFMSE: 34.420894622802734 \n",
      "Test MSE(0.5): 4.329476356506348 \n",
      "Test MSE(1.0): 7.7779107093811035 \n",
      "Test MSE(1.5): 13.949362754821777\n"
     ]
    },
    {
     "name": "stderr",
     "output_type": "stream",
     "text": [
      "\n"
     ]
    }
   ],
   "source": [
    "model.evaluate(df_test.loc[df_test['sceneId'] == 'set03-video_0012-05669'][:60], params, image_path=TEST_IMAGE_PATH, batch_size=BATCH_SIZE, rounds=ROUNDS, \n",
    "               num_goals=NUM_GOALS, num_traj=NUM_TRAJ, device=None, dataset_name=DATASET_NAME)"
   ]
  },
  {
   "cell_type": "code",
   "execution_count": 10,
   "id": "6c7784ee",
   "metadata": {},
   "outputs": [
    {
     "name": "stdout",
     "output_type": "stream",
     "text": [
      "Preprocess data\n"
     ]
    },
    {
     "name": "stderr",
     "output_type": "stream",
     "text": [
      "Prepare Dataset: 100%|█████████████████████████████████████████████████████████████████| 1/1 [00:00<00:00, 1003.42it/s]\n"
     ]
    },
    {
     "name": "stdout",
     "output_type": "stream",
     "text": [
      "Start testing\n"
     ]
    },
    {
     "name": "stderr",
     "output_type": "stream",
     "text": [
      "Round: 100%|█████████████████████████████████████████████████████████████████████████████| 1/1 [00:00<00:00,  2.35it/s]"
     ]
    },
    {
     "name": "stdout",
     "output_type": "stream",
     "text": []
    },
    {
     "name": "stderr",
     "output_type": "stream",
     "text": [
      "\n"
     ]
    }
   ],
   "source": [
    "model.evaluate(df_test.loc[df_test['sceneId'] == 'set03-video_0001-17086'][:60], params, image_path=TEST_IMAGE_PATH, batch_size=BATCH_SIZE, rounds=ROUNDS, \n",
    "               num_goals=NUM_GOALS, num_traj=NUM_TRAJ, device=None, dataset_name=DATASET_NAME)"
   ]
  }
 ],
 "metadata": {
  "kernelspec": {
   "display_name": "Python 3 (ipykernel)",
   "language": "python",
   "name": "python3"
  },
  "language_info": {
   "codemirror_mode": {
    "name": "ipython",
    "version": 3
   },
   "file_extension": ".py",
   "mimetype": "text/x-python",
   "name": "python",
   "nbconvert_exporter": "python",
   "pygments_lexer": "ipython3",
   "version": "3.11.0"
  }
 },
 "nbformat": 4,
 "nbformat_minor": 5
}
